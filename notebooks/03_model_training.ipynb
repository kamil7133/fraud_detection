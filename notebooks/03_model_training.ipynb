{
 "cells": [
  {
   "cell_type": "code",
   "execution_count": 1,
   "id": "373065a2-7f06-43af-8575-3b6e1552bf61",
   "metadata": {},
   "outputs": [],
   "source": [
    "import joblib\n",
    "\n",
    "X_train_bal_scaled, y_train_bal = joblib.load('fraud_detection/data/processed/train.pkl')\n",
    "X_val_scaled, y_val = joblib.load('fraud_detection/data/processed/val.pkl')\n",
    "X_test_scaled, y_test = joblib.load('fraud_detection/data/processed/test.pkl')"
   ]
  },
  {
   "cell_type": "code",
   "execution_count": 2,
   "id": "535ba6a7-f875-4f17-ab3e-fe9c27546e57",
   "metadata": {},
   "outputs": [
    {
     "name": "stdout",
     "output_type": "stream",
     "text": [
      "Confusion Matrix:\n",
      "[[170337  12164]\n",
      " [   958  16521]]\n",
      "Classification Report:\n",
      "              precision    recall  f1-score   support\n",
      "\n",
      "         0.0     0.9944    0.9333    0.9629    182501\n",
      "         1.0     0.5759    0.9452    0.7158     17479\n",
      "\n",
      "    accuracy                         0.9344    199980\n",
      "   macro avg     0.7852    0.9393    0.8393    199980\n",
      "weighted avg     0.9578    0.9344    0.9413    199980\n",
      "\n",
      "ROC-AUC (val): 0.9792607822932055\n"
     ]
    }
   ],
   "source": [
    "#logic regression (LR)\n",
    "from sklearn.linear_model import LogisticRegression\n",
    "from sklearn.metrics import confusion_matrix, classification_report, roc_auc_score\n",
    "\n",
    "lr = LogisticRegression(solver='liblinear', random_state=42)\n",
    "lr.fit(X_train_bal_scaled, y_train_bal)\n",
    "\n",
    "#evaluation on the validation set\n",
    "y_val_pred = lr.predict(X_val_scaled)\n",
    "print(\"Confusion Matrix:\")\n",
    "print(confusion_matrix(y_val, y_val_pred))\n",
    "\n",
    "print(\"Classification Report:\")\n",
    "print(classification_report(y_val, y_val_pred, digits=4))\n",
    "\n",
    "y_val_proba = lr.predict_proba(X_val_scaled)[:, 1] #class '1' probability\n",
    "roc_val = roc_auc_score(y_val, y_val_proba)\n",
    "print(\"ROC-AUC (val):\", roc_val)"
   ]
  },
  {
   "cell_type": "code",
   "execution_count": 3,
   "id": "f05eafeb-2e3c-4bd2-9434-8d53982512fd",
   "metadata": {},
   "outputs": [
    {
     "name": "stdout",
     "output_type": "stream",
     "text": [
      "Confusion Matrix:\n",
      "[[182501      0]\n",
      " [     1  17478]]\n",
      "Classification Report:\n",
      "              precision    recall  f1-score   support\n",
      "\n",
      "         0.0     1.0000    1.0000    1.0000    182501\n",
      "         1.0     1.0000    0.9999    1.0000     17479\n",
      "\n",
      "    accuracy                         1.0000    199980\n",
      "   macro avg     1.0000    1.0000    1.0000    199980\n",
      "weighted avg     1.0000    1.0000    1.0000    199980\n",
      "\n",
      "ROC-AUC (val): 1.0\n"
     ]
    }
   ],
   "source": [
    "#random forest (RF)\n",
    "from sklearn.ensemble import RandomForestClassifier\n",
    "\n",
    "rf = RandomForestClassifier(n_estimators=100,\n",
    "                            max_depth=None,\n",
    "                            random_state=42)\n",
    "rf.fit(X_train_bal_scaled, y_train_bal)\n",
    "\n",
    "y_val_pred = rf.predict(X_val_scaled)\n",
    "print(\"Confusion Matrix:\")\n",
    "print(confusion_matrix(y_val, y_val_pred))\n",
    "\n",
    "print(\"Classification Report:\")\n",
    "print(classification_report(y_val, y_val_pred, digits=4))\n",
    "\n",
    "y_val_proba = rf.predict_proba(X_val_scaled)[:, 1]\n",
    "roc_val = roc_auc_score(y_val, y_val_proba)\n",
    "print(\"ROC-AUC (val):\", roc_val)"
   ]
  },
  {
   "cell_type": "code",
   "execution_count": 4,
   "id": "8f53ad82-dd07-494a-be0c-bbc55e7d2ef8",
   "metadata": {},
   "outputs": [
    {
     "name": "stdout",
     "output_type": "stream",
     "text": [
      "XGB Confusion Matrix:\n",
      "[[182304    197]\n",
      " [    55  17424]]\n",
      "XGB Classification Report:\n",
      "              precision    recall  f1-score   support\n",
      "\n",
      "         0.0     0.9997    0.9989    0.9993    182501\n",
      "         1.0     0.9888    0.9969    0.9928     17479\n",
      "\n",
      "    accuracy                         0.9987    199980\n",
      "   macro avg     0.9943    0.9979    0.9961    199980\n",
      "weighted avg     0.9987    0.9987    0.9987    199980\n",
      "\n",
      "XGB ROC-AUC (val): 0.999984782761931\n"
     ]
    }
   ],
   "source": [
    "#XGBOOST \n",
    "from xgboost import XGBClassifier\n",
    "xgb_model = XGBClassifier(random_state=42, n_estimators=100)\n",
    "xgb_model.fit(X_train_bal_scaled, y_train_bal)\n",
    "\n",
    "y_val_pred = xgb_model.predict(X_val_scaled)\n",
    "print(\"XGB Confusion Matrix:\")\n",
    "print(confusion_matrix(y_val, y_val_pred))\n",
    "\n",
    "print(\"XGB Classification Report:\")\n",
    "print(classification_report(y_val, y_val_pred, digits=4))\n",
    "\n",
    "y_val_proba = xgb_model.predict_proba(X_val_scaled)[:, 1]\n",
    "roc_val = roc_auc_score(y_val, y_val_proba)\n",
    "print(\"XGB ROC-AUC (val):\", roc_val)"
   ]
  },
  {
   "cell_type": "code",
   "execution_count": 5,
   "id": "27c7d628-fb74-406b-b45e-d5fc8f43851c",
   "metadata": {},
   "outputs": [
    {
     "name": "stdout",
     "output_type": "stream",
     "text": [
      "Epoch 1/10\n"
     ]
    },
    {
     "name": "stderr",
     "output_type": "stream",
     "text": [
      "C:\\Users\\kamil\\Documents\\pythonProject1\\.venv\\Lib\\site-packages\\keras\\src\\layers\\core\\dense.py:87: UserWarning: Do not pass an `input_shape`/`input_dim` argument to a layer. When using Sequential models, prefer using an `Input(shape)` object as the first layer in the model instead.\n",
      "  super().__init__(activity_regularizer=activity_regularizer, **kwargs)\n"
     ]
    },
    {
     "name": "stdout",
     "output_type": "stream",
     "text": [
      "\u001b[1m39928/39928\u001b[0m \u001b[32m━━━━━━━━━━━━━━━━━━━━\u001b[0m\u001b[37m\u001b[0m \u001b[1m41s\u001b[0m 1ms/step - accuracy: 0.9811 - loss: 0.0627 - val_accuracy: 0.9941 - val_loss: 0.0142\n",
      "Epoch 2/10\n",
      "\u001b[1m39928/39928\u001b[0m \u001b[32m━━━━━━━━━━━━━━━━━━━━\u001b[0m\u001b[37m\u001b[0m \u001b[1m40s\u001b[0m 992us/step - accuracy: 0.9969 - loss: 0.0088 - val_accuracy: 0.9964 - val_loss: 0.0086\n",
      "Epoch 3/10\n",
      "\u001b[1m39928/39928\u001b[0m \u001b[32m━━━━━━━━━━━━━━━━━━━━\u001b[0m\u001b[37m\u001b[0m \u001b[1m40s\u001b[0m 995us/step - accuracy: 0.9977 - loss: 0.0070 - val_accuracy: 0.9968 - val_loss: 0.0075\n",
      "Epoch 4/10\n",
      "\u001b[1m39928/39928\u001b[0m \u001b[32m━━━━━━━━━━━━━━━━━━━━\u001b[0m\u001b[37m\u001b[0m \u001b[1m40s\u001b[0m 988us/step - accuracy: 0.9979 - loss: 0.0061 - val_accuracy: 0.9970 - val_loss: 0.0080\n",
      "Epoch 5/10\n",
      "\u001b[1m39928/39928\u001b[0m \u001b[32m━━━━━━━━━━━━━━━━━━━━\u001b[0m\u001b[37m\u001b[0m \u001b[1m39s\u001b[0m 985us/step - accuracy: 0.9982 - loss: 0.0052 - val_accuracy: 0.9980 - val_loss: 0.0059\n",
      "Epoch 6/10\n",
      "\u001b[1m39928/39928\u001b[0m \u001b[32m━━━━━━━━━━━━━━━━━━━━\u001b[0m\u001b[37m\u001b[0m \u001b[1m39s\u001b[0m 985us/step - accuracy: 0.9983 - loss: 0.0048 - val_accuracy: 0.9973 - val_loss: 0.0077\n",
      "Epoch 7/10\n",
      "\u001b[1m39928/39928\u001b[0m \u001b[32m━━━━━━━━━━━━━━━━━━━━\u001b[0m\u001b[37m\u001b[0m \u001b[1m40s\u001b[0m 989us/step - accuracy: 0.9983 - loss: 0.0048 - val_accuracy: 0.9973 - val_loss: 0.0068\n",
      "Epoch 8/10\n",
      "\u001b[1m39928/39928\u001b[0m \u001b[32m━━━━━━━━━━━━━━━━━━━━\u001b[0m\u001b[37m\u001b[0m \u001b[1m40s\u001b[0m 996us/step - accuracy: 0.9985 - loss: 0.0045 - val_accuracy: 0.9982 - val_loss: 0.0043\n",
      "Epoch 9/10\n",
      "\u001b[1m39928/39928\u001b[0m \u001b[32m━━━━━━━━━━━━━━━━━━━━\u001b[0m\u001b[37m\u001b[0m \u001b[1m41s\u001b[0m 1ms/step - accuracy: 0.9985 - loss: 0.0043 - val_accuracy: 0.9978 - val_loss: 0.0068\n",
      "Epoch 10/10\n",
      "\u001b[1m39928/39928\u001b[0m \u001b[32m━━━━━━━━━━━━━━━━━━━━\u001b[0m\u001b[37m\u001b[0m \u001b[1m39s\u001b[0m 984us/step - accuracy: 0.9986 - loss: 0.0043 - val_accuracy: 0.9983 - val_loss: 0.0043\n",
      "\u001b[1m6250/6250\u001b[0m \u001b[32m━━━━━━━━━━━━━━━━━━━━\u001b[0m\u001b[37m\u001b[0m \u001b[1m3s\u001b[0m 518us/step\n",
      "NN Confusion Matrix:\n",
      "[[182220    281]\n",
      " [    55  17424]]\n",
      "NN Classification Report:\n",
      "              precision    recall  f1-score   support\n",
      "\n",
      "         0.0     0.9997    0.9985    0.9991    182501\n",
      "         1.0     0.9841    0.9969    0.9905     17479\n",
      "\n",
      "    accuracy                         0.9983    199980\n",
      "   macro avg     0.9919    0.9977    0.9948    199980\n",
      "weighted avg     0.9983    0.9983    0.9983    199980\n",
      "\n",
      "NN ROC-AUC (val): 0.9999751889927158\n"
     ]
    }
   ],
   "source": [
    "#neural network\n",
    "import tensorflow as tf\n",
    "from tensorflow.keras import layers, models\n",
    "\n",
    "model = models.Sequential()\n",
    "model.add(layers.Dense(16, activation='relu', input_shape=(X_train_bal_scaled.shape[1],)))\n",
    "model.add(layers.Dense(8, activation='relu'))\n",
    "model.add(layers.Dense(1, activation='sigmoid'))\n",
    "\n",
    "model.compile(optimizer='adam',\n",
    "              loss='binary_crossentropy',\n",
    "              metrics=['accuracy'])\n",
    "\n",
    "history = model.fit(X_train_bal_scaled, y_train_bal,\n",
    "                    epochs=10,\n",
    "                    batch_size=32,\n",
    "                    validation_data=(X_val_scaled, y_val))\n",
    "\n",
    "import numpy as np\n",
    "y_val_proba = model.predict(X_val_scaled).ravel()\n",
    "y_val_pred = (y_val_proba > 0.5).astype(np.int32)\n",
    "\n",
    "print(\"NN Confusion Matrix:\")\n",
    "print(confusion_matrix(y_val, y_val_pred))\n",
    "\n",
    "print(\"NN Classification Report:\")\n",
    "print(classification_report(y_val, y_val_pred, digits=4))\n",
    "\n",
    "roc_val = roc_auc_score(y_val, y_val_proba)\n",
    "print(\"NN ROC-AUC (val):\", roc_val)"
   ]
  },
  {
   "cell_type": "code",
   "execution_count": 6,
   "id": "89c28c01-8258-42c2-8ec1-598178030f40",
   "metadata": {},
   "outputs": [
    {
     "name": "stdout",
     "output_type": "stream",
     "text": [
      "Best Params: {'max_depth': None, 'n_estimators': 200}\n",
      "Best Score: 0.9999569498123181\n"
     ]
    }
   ],
   "source": [
    "#grid search / random search \n",
    "from sklearn.model_selection import GridSearchCV\n",
    "param_grid = {\n",
    "    'n_estimators': [50, 100, 200],\n",
    "    'max_depth': [None, 5, 10]\n",
    "}\n",
    "\n",
    "rf = RandomForestClassifier(random_state=42)\n",
    "grid_search = GridSearchCV(rf, param_grid=param_grid,\n",
    "                         scoring='f1',\n",
    "                         cv=3,      #3-fold cross-validation\n",
    "                         n_jobs=-1)\n",
    "grid_search.fit(X_train_bal_scaled, y_train_bal)\n",
    "\n",
    "print(\"Best Params:\", grid_search.best_params_)\n",
    "print(\"Best Score:\", grid_search.best_score_)"
   ]
  },
  {
   "cell_type": "code",
   "execution_count": 7,
   "id": "acb68a33-13f4-4d33-86d0-a696843ee854",
   "metadata": {},
   "outputs": [
    {
     "name": "stdout",
     "output_type": "stream",
     "text": [
      "[[182220    281]\n",
      " [    55  17424]]\n",
      "              precision    recall  f1-score   support\n",
      "\n",
      "         0.0       1.00      1.00      1.00    182501\n",
      "         1.0       0.98      1.00      0.99     17479\n",
      "\n",
      "    accuracy                           1.00    199980\n",
      "   macro avg       0.99      1.00      0.99    199980\n",
      "weighted avg       1.00      1.00      1.00    199980\n",
      "\n",
      "ROC-AUC: 0.9999751889927158\n"
     ]
    }
   ],
   "source": [
    "'''\n",
    "Key metrics // \n",
    "precision: what percentage of our \"fraud predictions\" actually turned out to be fraud\n",
    "recall: how many real frauds have we uncovered\n",
    "F1-score: Harmonic mean precision and recall, pays attention to the balance between these measures\n",
    "ROC-AUC: Area under the ROC curve (True Positive Rate vs. False Positive Rate)\n",
    "Confusion Matrix: summary of TN, FP, FN, TP (how many normal transactions we detected correctly, how many false positives, etc.)\n",
    "'''\n",
    "\n",
    "from sklearn.metrics import classification_report, confusion_matrix, roc_auc_score\n",
    "\n",
    "print(confusion_matrix(y_val, y_val_pred))\n",
    "print(classification_report(y_val, y_val_pred))\n",
    "print(\"ROC-AUC:\", roc_auc_score(y_val, y_val_proba))\n"
   ]
  },
  {
   "cell_type": "code",
   "execution_count": 8,
   "id": "6a65efcd-77de-4f05-a986-0442afdb33ab",
   "metadata": {},
   "outputs": [
    {
     "data": {
      "image/png": "[encoded data removed]",
      "text/plain": [
       "<Figure size 640x480 with 2 Axes>"
      ]
     },
     "metadata": {},
     "output_type": "display_data"
    }
   ],
   "source": [
    "import seaborn as sns\n",
    "import matplotlib.pyplot as plt\n",
    "\n",
    "cm = confusion_matrix(y_val, y_val_pred)\n",
    "sns.heatmap(cm, annot=True, fmt='d')\n",
    "plt.title(\"Confusion Matrix\")\n",
    "plt.show()\n"
   ]
  },
  {
   "cell_type": "code",
   "execution_count": null,
   "id": "95f65f20-88cf-4ac8-9b2b-3157b26a2ee5",
   "metadata": {},
   "outputs": [],
   "source": []
  }
 ],
 "metadata": {
  "kernelspec": {
   "display_name": "Python 3 (ipykernel)",
   "language": "python",
   "name": "python3"
  },
  "language_info": {
   "codemirror_mode": {
    "name": "ipython",
    "version": 3
   },
   "file_extension": ".py",
   "mimetype": "text/x-python",
   "name": "python",
   "nbconvert_exporter": "python",
   "pygments_lexer": "ipython3",
   "version": "3.12.4"
  }
 },
 "nbformat": 4,
 "nbformat_minor": 5
}
