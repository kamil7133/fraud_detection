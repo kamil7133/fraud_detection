{
 "cells": [
  {
   "cell_type": "code",
   "execution_count": 28,
   "id": "b4188f82-61f3-42a7-b2b6-7d812723591a",
   "metadata": {},
   "outputs": [],
   "source": [
    "import pandas as pd\n",
    "import numpy as np"
   ]
  },
  {
   "cell_type": "code",
   "execution_count": 29,
   "id": "4d1f0628-6873-4934-af0b-81053175540a",
   "metadata": {},
   "outputs": [],
   "source": [
    "data_path = 'fraud_detection/data/raw/card_transdata.csv'\n",
    "df = pd.read_csv(data_path)"
   ]
  },
  {
   "cell_type": "code",
   "execution_count": 30,
   "id": "42782fd7-470a-487a-a85b-fbc075b93836",
   "metadata": {},
   "outputs": [
    {
     "name": "stdout",
     "output_type": "stream",
     "text": [
      "Missing values:\n",
      " distance_from_home                0\n",
      "distance_from_last_transaction    0\n",
      "ratio_to_median_purchase_price    0\n",
      "repeat_retailer                   0\n",
      "used_chip                         0\n",
      "used_pin_number                   0\n",
      "online_order                      0\n",
      "fraud                             0\n",
      "dtype: int64\n"
     ]
    }
   ],
   "source": [
    "missing = df.isnull().sum()\n",
    "print(\"Missing values:\\n\", missing)"
   ]
  },
  {
   "cell_type": "code",
   "execution_count": 31,
   "id": "13370c6a-8823-4a38-9073-9c67f1991bde",
   "metadata": {},
   "outputs": [],
   "source": [
    "df = df.dropna(thresh=df.shape[1] - 3)"
   ]
  },
  {
   "cell_type": "code",
   "execution_count": 32,
   "id": "732148c6-9d63-49c2-8a48-68ecb17dab81",
   "metadata": {},
   "outputs": [],
   "source": [
    "numeric_cols = ['distance_from_home', \n",
    "                'distance_from_last_transaction', \n",
    "                'ratio_to_median_purchase_price']\n",
    "\n",
    "for col in numeric_cols:\n",
    "    median_val = df[col].median()\n",
    "    df[col] = df[col].fillna(median_val)"
   ]
  },
  {
   "cell_type": "code",
   "execution_count": 33,
   "id": "6fd94e77-6bdf-499f-acf8-8fa6ec92f552",
   "metadata": {},
   "outputs": [
    {
     "name": "stdout",
     "output_type": "stream",
     "text": [
      "After cleaning data shape: (1000000, 8)\n"
     ]
    }
   ],
   "source": [
    "df.dropna(inplace=True)\n",
    "print(\"After cleaning data shape:\", df.shape)"
   ]
  },
  {
   "cell_type": "code",
   "execution_count": 34,
   "id": "d73c1cb2-4140-432c-8e93-754c6a03b969",
   "metadata": {},
   "outputs": [],
   "source": [
    "from sklearn.model_selection import train_test_split"
   ]
  },
  {
   "cell_type": "code",
   "execution_count": 35,
   "id": "13ffc639-a91e-4bd2-abb4-c0c5b180761f",
   "metadata": {},
   "outputs": [],
   "source": [
    "X = df.drop(\"fraud\", axis=1)\n",
    "y = df['fraud']"
   ]
  },
  {
   "cell_type": "code",
   "execution_count": 36,
   "id": "dcd672d2-2bad-400b-a8c3-ad0cc6a1b929",
   "metadata": {},
   "outputs": [],
   "source": [
    "X_temp, X_test, y_temp, y_test = train_test_split(\n",
    "    X, y,\n",
    "    test_size=0.10, #10% for test\n",
    "    random_state=42,\n",
    "    stratify=y\n",
    ")"
   ]
  },
  {
   "cell_type": "code",
   "execution_count": 37,
   "id": "aa386695-c8da-4d4c-bf53-edd3fcbbe3fd",
   "metadata": {},
   "outputs": [
    {
     "name": "stdout",
     "output_type": "stream",
     "text": [
      "Train: (700020, 7) Val: (199980, 7) Test: (100000, 7)\n"
     ]
    }
   ],
   "source": [
    "X_train, X_val, y_train, y_val = train_test_split(\n",
    "    X_temp, y_temp,\n",
    "    test_size=0.2222,\n",
    "    random_state=42,\n",
    "    stratify=y_temp\n",
    ")\n",
    "print(\"Train:\", X_train.shape, \"Val:\", X_val.shape, \"Test:\", X_test.shape)"
   ]
  },
  {
   "cell_type": "code",
   "execution_count": 38,
   "id": "d67f19fd-988e-45be-99c6-3c88a113d881",
   "metadata": {},
   "outputs": [
    {
     "name": "stdout",
     "output_type": "stream",
     "text": [
      "Before SMOTE: (700020, 7) fraud=1 61184\n",
      "After SMOTE: (1277672, 7) fraud=1 638836\n"
     ]
    }
   ],
   "source": [
    "#smote\n",
    "\n",
    "'''\n",
    "note for me//to be deleted\n",
    "Synthetic Minority Oversampling Technique (SMOTE) \n",
    "is a statistical technique for increasing the number\n",
    "of cases in your dataset in a balanced way. \n",
    "The component works by generating new instances \n",
    "from existing minority cases that you supply as input.\n",
    "'''\n",
    "from imblearn.over_sampling import SMOTE\n",
    "\n",
    "smote = SMOTE(random_state=42)\n",
    "X_train_bal, y_train_bal = smote.fit_resample(X_train, y_train)\n",
    "print(\"Before SMOTE:\", X_train.shape, \"fraud=1\", sum(y_train==1))\n",
    "print(\"After SMOTE:\", X_train_bal.shape, \"fraud=1\", sum(y_train_bal==1))"
   ]
  },
  {
   "cell_type": "code",
   "execution_count": 39,
   "id": "a9cb7fe4-0f64-4386-a6b1-94fab4b0c515",
   "metadata": {},
   "outputs": [],
   "source": [
    "from sklearn.preprocessing import StandardScaler\n",
    "import joblib\n",
    "\n",
    "scaler = StandardScaler()\n",
    "X_train_bal_scaled = scaler.fit_transform(X_train_bal)\n",
    "X_val_scaled = scaler.transform(X_val)\n",
    "X_test_scaled = scaler.transform(X_test)"
   ]
  },
  {
   "cell_type": "code",
   "execution_count": 40,
   "id": "fe0bd497-1d5f-4a9f-8a61-734f57ffcbbe",
   "metadata": {},
   "outputs": [
    {
     "data": {
      "text/plain": [
       "['C:/Users/kamil/Documents/pythonProject1/fraud_detection/data/processed/test.pkl']"
      ]
     },
     "execution_count": 40,
     "metadata": {},
     "output_type": "execute_result"
    }
   ],
   "source": [
    "import joblib\n",
    "joblib.dump(scaler, \"fraud_detection/models/scaler.pkl\")\n",
    "joblib.dump((X_train_bal_scaled, y_train_bal), 'fraud_detection/data/processed/train.pkl')\n",
    "joblib.dump((X_val_scaled, y_val), 'fraud_detection/data/processed/val.pkl')\n",
    "joblib.dump((X_test_scaled, y_test), 'fraud_detection/data/processed/test.pkl')"
   ]
  }
 ],
 "metadata": {
  "kernelspec": {
   "display_name": "Python 3 (ipykernel)",
   "language": "python",
   "name": "python3"
  },
  "language_info": {
   "codemirror_mode": {
    "name": "ipython",
    "version": 3
   },
   "file_extension": ".py",
   "mimetype": "text/x-python",
   "name": "python",
   "nbconvert_exporter": "python",
   "pygments_lexer": "ipython3",
   "version": "3.12.4"
  }
 },
 "nbformat": 4,
 "nbformat_minor": 5
}
