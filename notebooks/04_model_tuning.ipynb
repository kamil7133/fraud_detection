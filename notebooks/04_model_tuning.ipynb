{
 "cells": [
  {
   "cell_type": "code",
   "execution_count": 4,
   "id": "924b7bad-5077-4733-8a3d-530a0054ef6a",
   "metadata": {},
   "outputs": [
    {
     "name": "stdout",
     "output_type": "stream",
     "text": [
      "Cross-val F1-scores: [0.99999217 0.99998826 0.99997652 0.99998043 0.99997261]\n",
      "Mean F1: 0.9999819981599998\n"
     ]
    }
   ],
   "source": [
    "#k-fold cross-validation\n",
    "from sklearn.model_selection import cross_val_score, StratifiedKFold\n",
    "from sklearn.ensemble import RandomForestClassifier\n",
    "import joblib\n",
    "X_train_bal_scaled, y_train_bal = joblib.load('C:/Users/kamil/Documents/pythonProject1/fraud_detection/data/processed/train.pkl')\n",
    "rf = RandomForestClassifier(random_state=42)\n",
    "\n",
    "cv = StratifiedKFold(n_splits=5, shuffle=True, random_state=42)\n",
    "scores = cross_val_score(\n",
    "    rf,\n",
    "    X_train_bal_scaled,\n",
    "    y_train_bal,\n",
    "    scoring='f1',\n",
    "    cv=cv,\n",
    "    n_jobs=1\n",
    ")\n",
    "\n",
    "print(\"Cross-val F1-scores:\", scores)\n",
    "print(\"Mean F1:\", scores.mean())"
   ]
  },
  {
   "cell_type": "code",
   "execution_count": 12,
   "id": "3b695ed4-a8b1-4715-8c48-b2616d6ad59f",
   "metadata": {},
   "outputs": [
    {
     "name": "stdout",
     "output_type": "stream",
     "text": [
      "Epoch 1/100\n"
     ]
    },
    {
     "name": "stderr",
     "output_type": "stream",
     "text": [
      "C:\\Users\\kamil\\Documents\\pythonProject1\\.venv\\Lib\\site-packages\\keras\\src\\layers\\core\\dense.py:87: UserWarning: Do not pass an `input_shape`/`input_dim` argument to a layer. When using Sequential models, prefer using an `Input(shape)` object as the first layer in the model instead.\n",
      "  super().__init__(activity_regularizer=activity_regularizer, **kwargs)\n"
     ]
    },
    {
     "name": "stdout",
     "output_type": "stream",
     "text": [
      "\u001b[1m39928/39928\u001b[0m \u001b[32m━━━━━━━━━━━━━━━━━━━━\u001b[0m\u001b[37m\u001b[0m \u001b[1m45s\u001b[0m 1ms/step - accuracy: 0.9511 - loss: 0.1307 - val_accuracy: 0.9836 - val_loss: 0.0388\n",
      "Epoch 2/100\n",
      "\u001b[1m39928/39928\u001b[0m \u001b[32m━━━━━━━━━━━━━━━━━━━━\u001b[0m\u001b[37m\u001b[0m \u001b[1m44s\u001b[0m 1ms/step - accuracy: 0.9844 - loss: 0.0459 - val_accuracy: 0.9893 - val_loss: 0.0264\n",
      "Epoch 3/100\n",
      "\u001b[1m39928/39928\u001b[0m \u001b[32m━━━━━━━━━━━━━━━━━━━━\u001b[0m\u001b[37m\u001b[0m \u001b[1m44s\u001b[0m 1ms/step - accuracy: 0.9862 - loss: 0.0412 - val_accuracy: 0.9872 - val_loss: 0.0303\n",
      "Epoch 4/100\n",
      "\u001b[1m39928/39928\u001b[0m \u001b[32m━━━━━━━━━━━━━━━━━━━━\u001b[0m\u001b[37m\u001b[0m \u001b[1m44s\u001b[0m 1ms/step - accuracy: 0.9870 - loss: 0.0391 - val_accuracy: 0.9885 - val_loss: 0.0285\n",
      "Epoch 5/100\n",
      "\u001b[1m39928/39928\u001b[0m \u001b[32m━━━━━━━━━━━━━━━━━━━━\u001b[0m\u001b[37m\u001b[0m \u001b[1m44s\u001b[0m 1ms/step - accuracy: 0.9873 - loss: 0.0387 - val_accuracy: 0.9880 - val_loss: 0.0314\n",
      "Epoch 6/100\n",
      "\u001b[1m39928/39928\u001b[0m \u001b[32m━━━━━━━━━━━━━━━━━━━━\u001b[0m\u001b[37m\u001b[0m \u001b[1m44s\u001b[0m 1ms/step - accuracy: 0.9875 - loss: 0.0384 - val_accuracy: 0.9891 - val_loss: 0.0273\n",
      "Epoch 7/100\n",
      "\u001b[1m39928/39928\u001b[0m \u001b[32m━━━━━━━━━━━━━━━━━━━━\u001b[0m\u001b[37m\u001b[0m \u001b[1m44s\u001b[0m 1ms/step - accuracy: 0.9875 - loss: 0.0384 - val_accuracy: 0.9889 - val_loss: 0.0292\n"
     ]
    }
   ],
   "source": [
    "#NN with dropout, earlystopping\n",
    "'''\n",
    "Dropout randomly resets some neurons during training to \n",
    "prevent the model from getting used to the training set\n",
    "'''\n",
    "from tensorflow.keras import layers, models\n",
    "import joblib\n",
    "X_val_scaled, y_val = joblib.load('C:/Users/kamil/Documents/pythonProject1/fraud_detection/data/processed/val.pkl')\n",
    "\n",
    "model = models.Sequential()\n",
    "model.add(layers.Dense(16, activation='relu', input_shape=(X_train_bal_scaled.shape[1],)))\n",
    "model.add(layers.Dropout(0.2))  # 20% dropout\n",
    "model.add(layers.Dense(8, activation='relu'))\n",
    "model.add(layers.Dropout(0.2))\n",
    "model.add(layers.Dense(1, activation='sigmoid'))\n",
    "\n",
    "'''\n",
    "EarlyStopping callback\n",
    "stops training when the model stops improving on the validation set.\n",
    "'''\n",
    "from tensorflow.keras.callbacks import EarlyStopping\n",
    "\n",
    "es = EarlyStopping(\n",
    "    monitor='val_loss',\n",
    "    patience=5,\n",
    "    restore_best_weights=True\n",
    ")\n",
    "\n",
    "model.compile(optimizer='adam',\n",
    "              loss='binary_crossentropy',\n",
    "              metrics=['accuracy'])\n",
    "\n",
    "history = model.fit(\n",
    "    X_train_bal_scaled, y_train_bal,\n",
    "    validation_data=(X_val_scaled, y_val),\n",
    "    epochs=100,\n",
    "    batch_size=32,\n",
    "    callbacks=[es]\n",
    ")"
   ]
  },
  {
   "cell_type": "code",
   "execution_count": 18,
   "id": "2b8285ed-7d8c-409d-82cf-bf35d313cf47",
   "metadata": {},
   "outputs": [
    {
     "name": "stdout",
     "output_type": "stream",
     "text": [
      "[[144730  37771]\n",
      " [ 14815   2664]]\n",
      "              precision    recall  f1-score   support\n",
      "\n",
      "         0.0       0.91      0.79      0.85    182501\n",
      "         1.0       0.07      0.15      0.09     17479\n",
      "\n",
      "    accuracy                           0.74    199980\n",
      "   macro avg       0.49      0.47      0.47    199980\n",
      "weighted avg       0.83      0.74      0.78    199980\n",
      "\n"
     ]
    }
   ],
   "source": [
    "#anomaly / novelty detection / isolation forest\n",
    "'''\n",
    "used isolation forest because model will treat \"unusual\" \n",
    "transactions like anomaly\n",
    "'''\n",
    "from sklearn.ensemble import IsolationForest\n",
    "from sklearn.metrics import confusion_matrix, classification_report\n",
    "\n",
    "iso_forest = IsolationForest(random_state=42, n_estimators=100)\n",
    "iso_forest.fit(X_train_bal_scaled)\n",
    "\n",
    "#prediction: +1 = normal, -1 =anomaly\n",
    "y_val_pred_if = iso_forest.predict(X_val_scaled)\n",
    "\n",
    "# changing -1 to 1 (fraud) and +1 to 0 (normal), to compare to y_val\n",
    "y_val_pred_if = [1 if x == -1 else 0 for x in y_val_pred_if]\n",
    "\n",
    "print(confusion_matrix(y_val, y_val_pred_if))\n",
    "print(classification_report(y_val, y_val_pred_if))"
   ]
  },
  {
   "cell_type": "code",
   "execution_count": 5,
   "id": "172ae8ff-77c6-4fcc-86eb-a35912091a75",
   "metadata": {},
   "outputs": [
    {
     "name": "stdout",
     "output_type": "stream",
     "text": [
      "{'max_depth': None, 'n_estimators': 200} 0.9999569498123181\n"
     ]
    }
   ],
   "source": [
    "#building final model// rf was 1.0 so :) \n",
    "import joblib\n",
    "\n",
    "X_train_bal_scaled, y_train_bal = joblib.load('C:/Users/kamil/Documents/pythonProject1/fraud_detection/data/processed/train.pkl')\n",
    "\n",
    "from sklearn.ensemble import RandomForestClassifier\n",
    "from sklearn.model_selection import GridSearchCV\n",
    "\n",
    "param_grid = {'n_estimators':[50,100,200],'max_depth':[None,5,10]}\n",
    "rf = RandomForestClassifier(random_state=42)\n",
    "grid_search = GridSearchCV(rf, param_grid=param_grid, scoring='f1', cv=3, n_jobs=-1)\n",
    "grid_search.fit(X_train_bal_scaled, y_train_bal)\n",
    "print(grid_search.best_params_, grid_search.best_score_)"
   ]
  },
  {
   "cell_type": "code",
   "execution_count": null,
   "id": "fe988c90-08b4-4624-90ae-d0565caf6a19",
   "metadata": {},
   "outputs": [],
   "source": [
    "best_params = grid_search.best_params_\n",
    "best_rf = RandomForestClassifier(**best_params, random_state=42)\n",
    "best_rf.fit(X_train_bal_scaled, y_train_bal)"
   ]
  },
  {
   "cell_type": "code",
   "execution_count": null,
   "id": "c4f25c07-6374-4877-b434-9ad95a4519f1",
   "metadata": {},
   "outputs": [],
   "source": [
    "import joblib\n",
    "joblib.dump(best_rf, \"../models/best_random_forest.pkl\")"
   ]
  },
  {
   "cell_type": "code",
   "execution_count": null,
   "id": "04e0a024-854d-46b3-8179-fe5bcba5a561",
   "metadata": {},
   "outputs": [],
   "source": []
  }
 ],
 "metadata": {
  "kernelspec": {
   "display_name": "Python 3 (ipykernel)",
   "language": "python",
   "name": "python3"
  },
  "language_info": {
   "codemirror_mode": {
    "name": "ipython",
    "version": 3
   },
   "file_extension": ".py",
   "mimetype": "text/x-python",
   "name": "python",
   "nbconvert_exporter": "python",
   "pygments_lexer": "ipython3",
   "version": "3.12.4"
  }
 },
 "nbformat": 4,
 "nbformat_minor": 5
}
